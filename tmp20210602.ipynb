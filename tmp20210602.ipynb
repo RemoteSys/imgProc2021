{
 "cells": [
  {
   "cell_type": "markdown",
   "id": "2df80140",
   "metadata": {},
   "source": [
    "# Sentinel images\n",
    "\n",
    "Sentinel image processing will be divided into 3 stages: \n",
    ">- download images via python\n",
    ">- preprocessing\n",
    ">- image processing\n",
    "\n",
    "## Download images\n",
    "\n",
    "Downloading Sentinal images requires:\n",
    "- product type selection: `S2`\n",
    "- filtering images due to cloudiness: `cloudcoverpercentage=(0, 20)`\n",
    "- definition of the area of interest\n",
    "\n",
    "**Area of interest**\n",
    ">- `geopy` module - get location by country, city\n",
    ">- `utm` module - conversion of geographic coordinates to the utm system and vice versa\n",
    ">- `geojson` - notation of coordinates in geojson format,which is used to create the polygon object by the shapely module\n",
    ">- `shapely` - creating polygon geometry - which will be used to visualize and trim the area of interest and to define the area of interest by SentinelHub \n",
    ">- `ipyleaflet` - display the map \n",
    "\n",
    "\n",
    "## Preprocessing\n",
    "\n",
    ">- Unzip Sentinel-2 data\n",
    ">- Preparation of the `polygon`\n",
    ">- Channel selection\n",
    ">- Resampling\n",
    ">- Trimming (clipping) images]\n",
    ">- Save data\n",
    "\n",
    "## New environment \n",
    "\n",
    "Create a new environment to handle Sentinel images - e.g. `sen`. Necessary packages:\n",
    ">- numpy, pandas, matplotlib\n",
    ">- rasterio\n",
    "> -geopy, geojson, shapely\n",
    ">- sentinelsat\n",
    ">- utm\n",
    ">- ipyleaflet"
   ]
  },
  {
   "cell_type": "code",
   "execution_count": 1,
   "id": "117a7469",
   "metadata": {},
   "outputs": [],
   "source": [
    "import numpy as np\n",
    "import pandas as pd\n",
    "from geopy.geocoders import Nominatim\n",
    "import geojson\n",
    "#from shapely.geometry import shape\n",
    "from shapely import geometry\n",
    "from sentinelsat import SentinelAPI\n",
    "from datetime import date\n",
    "import utm\n",
    "from ipyleaflet import Map, Marker, basemaps, basemap_to_tiles\n",
    "from ipyleaflet import Polygon as ipylPolygon"
   ]
  },
  {
   "cell_type": "markdown",
   "id": "0e2a6413",
   "metadata": {},
   "source": [
    "# Download images\n",
    "## Geopy"
   ]
  },
  {
   "cell_type": "code",
   "execution_count": 2,
   "id": "d5423da1",
   "metadata": {},
   "outputs": [
    {
     "data": {
      "text/plain": [
       "geopy.location.Location"
      ]
     },
     "execution_count": 2,
     "metadata": {},
     "output_type": "execute_result"
    }
   ],
   "source": [
    "address={'country':'Poland','city':'Swornegacie'}  # my cities\n",
    "geolocator = Nominatim(user_agent=\"Pio\")\n",
    "location = geolocator.geocode(address)\n",
    "type(location)"
   ]
  },
  {
   "cell_type": "code",
   "execution_count": 3,
   "id": "7d2d7a75",
   "metadata": {},
   "outputs": [
    {
     "data": {
      "text/plain": [
       "(17.4991394, 53.8604117)"
      ]
     },
     "execution_count": 3,
     "metadata": {},
     "output_type": "execute_result"
    }
   ],
   "source": [
    "location.longitude, location.latitude"
   ]
  },
  {
   "cell_type": "code",
   "execution_count": 4,
   "id": "8faaf768",
   "metadata": {},
   "outputs": [],
   "source": [
    "p = location.point"
   ]
  },
  {
   "cell_type": "markdown",
   "id": "c92d8f69",
   "metadata": {},
   "source": [
    "## Utm"
   ]
  },
  {
   "cell_type": "code",
   "execution_count": 5,
   "id": "400b0d09",
   "metadata": {},
   "outputs": [
    {
     "data": {
      "text/plain": [
       "(664349.1620839138, 5970886.588540567, 33, 'U')"
      ]
     },
     "execution_count": 5,
     "metadata": {},
     "output_type": "execute_result"
    }
   ],
   "source": [
    "utm.from_latlon(location.latitude, location.longitude)"
   ]
  },
  {
   "cell_type": "code",
   "execution_count": 6,
   "id": "25f419e4",
   "metadata": {},
   "outputs": [
    {
     "data": {
      "text/plain": [
       "(664349.1620839138, 5970886.588540567)"
      ]
     },
     "execution_count": 6,
     "metadata": {},
     "output_type": "execute_result"
    }
   ],
   "source": [
    "x,y,zone, zone_letter = utm.from_latlon(location.latitude, location.longitude)\n",
    "x,y"
   ]
  },
  {
   "cell_type": "code",
   "execution_count": 7,
   "id": "b66a8987",
   "metadata": {},
   "outputs": [
    {
     "data": {
      "text/plain": [
       "[(649349.1620839138, 5985886.588540567),\n",
       " (679349.1620839138, 5985886.588540567),\n",
       " (679349.1620839138, 5955886.588540567),\n",
       " (649349.1620839138, 5955886.588540567)]"
      ]
     },
     "execution_count": 7,
     "metadata": {},
     "output_type": "execute_result"
    }
   ],
   "source": [
    "offset = 15*1000\n",
    "upl = (x-offset, y+offset)\n",
    "bol = (x-offset, y-offset)\n",
    "\n",
    "upr = (x+offset, y+offset)\n",
    "bor = (x+offset, y-offset)\n",
    "\n",
    "utmPoints = [upl,upr,bor,bol]\n",
    "utmPoints"
   ]
  },
  {
   "cell_type": "code",
   "execution_count": 8,
   "id": "04fb2072",
   "metadata": {
    "scrolled": true
   },
   "outputs": [
    {
     "data": {
      "text/plain": [
       "[[(53.99965710756386, 17.278583044505567),\n",
       "  (53.99011521095917, 17.735758024374025),\n",
       "  (53.720776757226965, 17.71823497713635),\n",
       "  (53.73022549168856, 17.263981555126215),\n",
       "  (53.99965710756386, 17.278583044505567)]]"
      ]
     },
     "execution_count": 8,
     "metadata": {},
     "output_type": "execute_result"
    }
   ],
   "source": [
    "poly = []\n",
    "for p in utmPoints:\n",
    "    lat, lon = utm.to_latlon(*p,zone,zone_letter)\n",
    "    poly.append((lat,lon))\n",
    "poly.append(poly[0])\n",
    "poly = [poly]\n",
    "poly"
   ]
  },
  {
   "cell_type": "code",
   "execution_count": 9,
   "id": "7fab8430",
   "metadata": {},
   "outputs": [
    {
     "data": {
      "text/plain": [
       "[[(17.278583044505567, 53.99965710756386),\n",
       "  (17.735758024374025, 53.99011521095917),\n",
       "  (17.71823497713635, 53.720776757226965),\n",
       "  (17.263981555126215, 53.73022549168856),\n",
       "  (17.278583044505567, 53.99965710756386)]]"
      ]
     },
     "execution_count": 9,
     "metadata": {},
     "output_type": "execute_result"
    }
   ],
   "source": [
    "poly = []\n",
    "for p in utmPoints:\n",
    "    lat, lon = utm.to_latlon(*p,zone,zone_letter)\n",
    "    poly.append((lon,lat))\n",
    "poly.append(poly[0])\n",
    "poly = [poly]\n",
    "poly"
   ]
  },
  {
   "cell_type": "markdown",
   "id": "91011fba",
   "metadata": {},
   "source": [
    "## Geojson"
   ]
  },
  {
   "cell_type": "code",
   "execution_count": 10,
   "id": "76e26e8d",
   "metadata": {},
   "outputs": [
    {
     "name": "stdout",
     "output_type": "stream",
     "text": [
      "{\"coordinates\": [[[17.278583, 53.999657], [17.735758, 53.990115], [17.718235, 53.720777], [17.263982, 53.730225], [17.278583, 53.999657]]], \"type\": \"Polygon\"} \n",
      "\n",
      " <class 'geojson.geometry.Polygon'> \n",
      "\n"
     ]
    }
   ],
   "source": [
    "# convet polygon coordinates to geojson format\n",
    "polyGeojson = geojson.Polygon(poly)\n",
    "print(polyGeojson,'\\n\\n',type(polyGeojson),'\\n')"
   ]
  },
  {
   "cell_type": "markdown",
   "id": "8074e501",
   "metadata": {},
   "source": [
    "## Shapely"
   ]
  },
  {
   "cell_type": "code",
   "execution_count": 11,
   "id": "54a12076",
   "metadata": {
    "scrolled": true
   },
   "outputs": [
    {
     "name": "stdout",
     "output_type": "stream",
     "text": [
      "type: <class 'shapely.geometry.polygon.Polygon'>\n",
      "\n"
     ]
    },
    {
     "data": {
      "image/svg+xml": [
       "<svg xmlns=\"http://www.w3.org/2000/svg\" xmlns:xlink=\"http://www.w3.org/1999/xlink\" width=\"100.0\" height=\"100.0\" viewBox=\"17.245110959999998 53.70190596 0.509518080000003 0.3166220800000019\" preserveAspectRatio=\"xMinYMin meet\"><g transform=\"matrix(1,0,0,-1,0,107.720434)\"><path fill-rule=\"evenodd\" fill=\"#66cc99\" stroke=\"#555555\" stroke-width=\"0.01019036160000006\" opacity=\"0.6\" d=\"M 17.278583,53.999657 L 17.735758,53.990115 L 17.718235,53.720777 L 17.263982,53.730225 L 17.278583,53.999657 z\" /></g></svg>"
      ],
      "text/plain": [
       "<shapely.geometry.polygon.Polygon at 0x7f855d4f2490>"
      ]
     },
     "execution_count": 11,
     "metadata": {},
     "output_type": "execute_result"
    }
   ],
   "source": [
    "polyShapely = geometry.shape(polyGeojson)\n",
    "print(f'type: {type(polyShapely)}\\n')\n",
    "polyShapely"
   ]
  },
  {
   "cell_type": "code",
   "execution_count": 26,
   "id": "92d4ff0f",
   "metadata": {},
   "outputs": [
    {
     "data": {
      "text/plain": [
       "'POLYGON ((17.2785830000000011 53.9996569999999991, 17.7357580000000006 53.9901150000000030, 17.7182350000000000 53.7207769999999982, 17.2639819999999986 53.7302249999999972, 17.2785830000000011 53.9996569999999991))'"
      ]
     },
     "execution_count": 26,
     "metadata": {},
     "output_type": "execute_result"
    }
   ],
   "source": [
    "polyShapely.to_wkt()"
   ]
  },
  {
   "cell_type": "markdown",
   "id": "e5a5c104",
   "metadata": {},
   "source": [
    "polyShapely = geometry.asPolygon(utmPoints)\n",
    "print(f'type: {type(polyShapely)}\\n')\n",
    "polyShapely"
   ]
  },
  {
   "cell_type": "markdown",
   "id": "44be5a83",
   "metadata": {},
   "source": [
    "## ipyleaflet"
   ]
  },
  {
   "cell_type": "code",
   "execution_count": 29,
   "id": "4d5eea93",
   "metadata": {},
   "outputs": [
    {
     "data": {
      "application/vnd.jupyter.widget-view+json": {
       "model_id": "0b3f8c39c4bb43c5900eea4812be8f6e",
       "version_major": 2,
       "version_minor": 0
      },
      "text/plain": [
       "Map(center=[53.8604117, 17.4991394], controls=(ZoomControl(options=['position', 'zoom_in_text', 'zoom_in_title…"
      ]
     },
     "metadata": {},
     "output_type": "display_data"
    }
   ],
   "source": [
    "latlon = (location.latitude,location.longitude)\n",
    "#latlon = (location.longitude,location.latitude)\n",
    "\n",
    "m = Map(\n",
    "    basemap=basemap_to_tiles(basemaps.OpenTopoMap, \"2017-08-08\"),\n",
    "    center=(latlon[0],latlon[1]),\n",
    "    zoom=10\n",
    ")\n",
    "\n",
    "m.add_layer(Marker(location=latlon))\n",
    "area = ipylPolygon(locations=poly,color='red',fill_opacity= 0.1,weight=2)\n",
    "m.add_layer(area)\n",
    "m"
   ]
  },
  {
   "cell_type": "code",
   "execution_count": 14,
   "id": "38d1cf3f",
   "metadata": {},
   "outputs": [],
   "source": [
    "from IPython import display"
   ]
  },
  {
   "cell_type": "code",
   "execution_count": 15,
   "id": "f425126f",
   "metadata": {},
   "outputs": [
    {
     "data": {
      "text/plain": [
       "(17.4991394, 53.8604117)"
      ]
     },
     "execution_count": 15,
     "metadata": {},
     "output_type": "execute_result"
    }
   ],
   "source": [
    "location.longitude, location.latitude"
   ]
  },
  {
   "cell_type": "code",
   "execution_count": 16,
   "id": "14664482",
   "metadata": {},
   "outputs": [],
   "source": [
    "api = SentinelAPI('Puchatek', '!scihub.copernicus.eu!', 'https://scihub.copernicus.eu/dhus')"
   ]
  },
  {
   "cell_type": "code",
   "execution_count": 17,
   "id": "b6bd0410",
   "metadata": {},
   "outputs": [],
   "source": [
    "products = api.query(polyShapely,\n",
    "                     date=('20210315', '20210410'),\n",
    "                     platformname='Sentinel-2',\n",
    "                     cloudcoverpercentage=(0, 20))"
   ]
  },
  {
   "cell_type": "code",
   "execution_count": 18,
   "id": "db63ba2e",
   "metadata": {},
   "outputs": [
    {
     "data": {
      "text/html": [
       "<div>\n",
       "<style scoped>\n",
       "    .dataframe tbody tr th:only-of-type {\n",
       "        vertical-align: middle;\n",
       "    }\n",
       "\n",
       "    .dataframe tbody tr th {\n",
       "        vertical-align: top;\n",
       "    }\n",
       "\n",
       "    .dataframe thead th {\n",
       "        text-align: right;\n",
       "    }\n",
       "</style>\n",
       "<table border=\"1\" class=\"dataframe\">\n",
       "  <thead>\n",
       "    <tr style=\"text-align: right;\">\n",
       "      <th></th>\n",
       "      <th>title</th>\n",
       "      <th>link</th>\n",
       "      <th>link_alternative</th>\n",
       "      <th>link_icon</th>\n",
       "      <th>summary</th>\n",
       "      <th>ondemand</th>\n",
       "      <th>ingestiondate</th>\n",
       "      <th>beginposition</th>\n",
       "      <th>endposition</th>\n",
       "      <th>generationdate</th>\n",
       "      <th>...</th>\n",
       "      <th>platformname</th>\n",
       "      <th>size</th>\n",
       "      <th>datastripidentifier</th>\n",
       "      <th>granuleidentifier</th>\n",
       "      <th>level1cpdiidentifier</th>\n",
       "      <th>uuid</th>\n",
       "      <th>datatakesensingstart</th>\n",
       "      <th>sensoroperationalmode</th>\n",
       "      <th>tileid</th>\n",
       "      <th>hv_order_tileid</th>\n",
       "    </tr>\n",
       "  </thead>\n",
       "  <tbody>\n",
       "    <tr>\n",
       "      <th>f91cebb6-90a8-4677-ac1f-5129ee6a9bac</th>\n",
       "      <td>S2A_MSIL2A_20210331T100021_N0300_R122_T33UXV_2...</td>\n",
       "      <td>https://scihub.copernicus.eu/dhus/odata/v1/Pro...</td>\n",
       "      <td>https://scihub.copernicus.eu/dhus/odata/v1/Pro...</td>\n",
       "      <td>https://scihub.copernicus.eu/dhus/odata/v1/Pro...</td>\n",
       "      <td>Date: 2021-03-31T10:00:21.024Z, Instrument: MS...</td>\n",
       "      <td>false</td>\n",
       "      <td>2021-03-31 19:48:08.303</td>\n",
       "      <td>2021-03-31 10:00:21.024</td>\n",
       "      <td>2021-03-31 10:00:21.024</td>\n",
       "      <td>2021-03-31 12:52:12</td>\n",
       "      <td>...</td>\n",
       "      <td>Sentinel-2</td>\n",
       "      <td>1.07 GB</td>\n",
       "      <td>S2A_OPER_MSI_L2A_DS_VGS4_20210331T125212_S2021...</td>\n",
       "      <td>S2A_OPER_MSI_L2A_TL_VGS4_20210331T125212_A0301...</td>\n",
       "      <td>S2A_OPER_MSI_L1C_TL_VGS4_20210331T113321_A0301...</td>\n",
       "      <td>f91cebb6-90a8-4677-ac1f-5129ee6a9bac</td>\n",
       "      <td>NaT</td>\n",
       "      <td>NaN</td>\n",
       "      <td>NaN</td>\n",
       "      <td>NaN</td>\n",
       "    </tr>\n",
       "    <tr>\n",
       "      <th>488958c6-4976-40d4-a1e8-87bb2d05eb56</th>\n",
       "      <td>S2A_MSIL1C_20210331T100021_N0300_R122_T33UXV_2...</td>\n",
       "      <td>https://scihub.copernicus.eu/dhus/odata/v1/Pro...</td>\n",
       "      <td>https://scihub.copernicus.eu/dhus/odata/v1/Pro...</td>\n",
       "      <td>https://scihub.copernicus.eu/dhus/odata/v1/Pro...</td>\n",
       "      <td>Date: 2021-03-31T10:00:21.024Z, Instrument: MS...</td>\n",
       "      <td>false</td>\n",
       "      <td>2021-03-31 15:37:16.793</td>\n",
       "      <td>2021-03-31 10:00:21.024</td>\n",
       "      <td>2021-03-31 10:00:21.024</td>\n",
       "      <td>2021-03-31 11:33:21</td>\n",
       "      <td>...</td>\n",
       "      <td>Sentinel-2</td>\n",
       "      <td>791.14 MB</td>\n",
       "      <td>S2A_OPER_MSI_L1C_DS_VGS4_20210331T113321_S2021...</td>\n",
       "      <td>S2A_OPER_MSI_L1C_TL_VGS4_20210331T113321_A0301...</td>\n",
       "      <td>S2A_OPER_MSI_L1C_TL_VGS4_20210331T113321_A0301...</td>\n",
       "      <td>488958c6-4976-40d4-a1e8-87bb2d05eb56</td>\n",
       "      <td>2021-03-31 10:00:21.024</td>\n",
       "      <td>INS-NOBS</td>\n",
       "      <td>33UXV</td>\n",
       "      <td>UV33X</td>\n",
       "    </tr>\n",
       "    <tr>\n",
       "      <th>18ecce27-2437-4f84-b0d2-fe6a9de25135</th>\n",
       "      <td>S2B_MSIL2A_20210326T100029_N0214_R122_T33UXV_2...</td>\n",
       "      <td>https://scihub.copernicus.eu/dhus/odata/v1/Pro...</td>\n",
       "      <td>https://scihub.copernicus.eu/dhus/odata/v1/Pro...</td>\n",
       "      <td>https://scihub.copernicus.eu/dhus/odata/v1/Pro...</td>\n",
       "      <td>Date: 2021-03-26T10:00:29.024Z, Instrument: MS...</td>\n",
       "      <td>false</td>\n",
       "      <td>2021-03-26 19:24:30.966</td>\n",
       "      <td>2021-03-26 10:00:29.024</td>\n",
       "      <td>2021-03-26 10:00:29.024</td>\n",
       "      <td>2021-03-26 12:43:11</td>\n",
       "      <td>...</td>\n",
       "      <td>Sentinel-2</td>\n",
       "      <td>1.05 GB</td>\n",
       "      <td>S2B_OPER_MSI_L2A_DS_VGS4_20210326T124311_S2021...</td>\n",
       "      <td>S2B_OPER_MSI_L2A_TL_VGS4_20210326T124311_A0211...</td>\n",
       "      <td>S2B_OPER_MSI_L1C_TL_VGS4_20210326T111328_A0211...</td>\n",
       "      <td>18ecce27-2437-4f84-b0d2-fe6a9de25135</td>\n",
       "      <td>NaT</td>\n",
       "      <td>NaN</td>\n",
       "      <td>NaN</td>\n",
       "      <td>NaN</td>\n",
       "    </tr>\n",
       "    <tr>\n",
       "      <th>239ed32b-2c60-4fb0-8964-ef4c32dbc461</th>\n",
       "      <td>S2B_MSIL1C_20210326T100029_N0209_R122_T33UXV_2...</td>\n",
       "      <td>https://scihub.copernicus.eu/dhus/odata/v1/Pro...</td>\n",
       "      <td>https://scihub.copernicus.eu/dhus/odata/v1/Pro...</td>\n",
       "      <td>https://scihub.copernicus.eu/dhus/odata/v1/Pro...</td>\n",
       "      <td>Date: 2021-03-26T10:00:29.024Z, Instrument: MS...</td>\n",
       "      <td>false</td>\n",
       "      <td>2021-03-26 15:36:54.844</td>\n",
       "      <td>2021-03-26 10:00:29.024</td>\n",
       "      <td>2021-03-26 10:00:29.024</td>\n",
       "      <td>2021-03-26 11:13:28</td>\n",
       "      <td>...</td>\n",
       "      <td>Sentinel-2</td>\n",
       "      <td>758.93 MB</td>\n",
       "      <td>S2B_OPER_MSI_L1C_DS_VGS4_20210326T111328_S2021...</td>\n",
       "      <td>S2B_OPER_MSI_L1C_TL_VGS4_20210326T111328_A0211...</td>\n",
       "      <td>S2B_OPER_MSI_L1C_TL_VGS4_20210326T111328_A0211...</td>\n",
       "      <td>239ed32b-2c60-4fb0-8964-ef4c32dbc461</td>\n",
       "      <td>2021-03-26 10:00:29.024</td>\n",
       "      <td>INS-NOBS</td>\n",
       "      <td>33UXV</td>\n",
       "      <td>UV33X</td>\n",
       "    </tr>\n",
       "  </tbody>\n",
       "</table>\n",
       "<p>4 rows × 46 columns</p>\n",
       "</div>"
      ],
      "text/plain": [
       "                                                                                  title  \\\n",
       "f91cebb6-90a8-4677-ac1f-5129ee6a9bac  S2A_MSIL2A_20210331T100021_N0300_R122_T33UXV_2...   \n",
       "488958c6-4976-40d4-a1e8-87bb2d05eb56  S2A_MSIL1C_20210331T100021_N0300_R122_T33UXV_2...   \n",
       "18ecce27-2437-4f84-b0d2-fe6a9de25135  S2B_MSIL2A_20210326T100029_N0214_R122_T33UXV_2...   \n",
       "239ed32b-2c60-4fb0-8964-ef4c32dbc461  S2B_MSIL1C_20210326T100029_N0209_R122_T33UXV_2...   \n",
       "\n",
       "                                                                                   link  \\\n",
       "f91cebb6-90a8-4677-ac1f-5129ee6a9bac  https://scihub.copernicus.eu/dhus/odata/v1/Pro...   \n",
       "488958c6-4976-40d4-a1e8-87bb2d05eb56  https://scihub.copernicus.eu/dhus/odata/v1/Pro...   \n",
       "18ecce27-2437-4f84-b0d2-fe6a9de25135  https://scihub.copernicus.eu/dhus/odata/v1/Pro...   \n",
       "239ed32b-2c60-4fb0-8964-ef4c32dbc461  https://scihub.copernicus.eu/dhus/odata/v1/Pro...   \n",
       "\n",
       "                                                                       link_alternative  \\\n",
       "f91cebb6-90a8-4677-ac1f-5129ee6a9bac  https://scihub.copernicus.eu/dhus/odata/v1/Pro...   \n",
       "488958c6-4976-40d4-a1e8-87bb2d05eb56  https://scihub.copernicus.eu/dhus/odata/v1/Pro...   \n",
       "18ecce27-2437-4f84-b0d2-fe6a9de25135  https://scihub.copernicus.eu/dhus/odata/v1/Pro...   \n",
       "239ed32b-2c60-4fb0-8964-ef4c32dbc461  https://scihub.copernicus.eu/dhus/odata/v1/Pro...   \n",
       "\n",
       "                                                                              link_icon  \\\n",
       "f91cebb6-90a8-4677-ac1f-5129ee6a9bac  https://scihub.copernicus.eu/dhus/odata/v1/Pro...   \n",
       "488958c6-4976-40d4-a1e8-87bb2d05eb56  https://scihub.copernicus.eu/dhus/odata/v1/Pro...   \n",
       "18ecce27-2437-4f84-b0d2-fe6a9de25135  https://scihub.copernicus.eu/dhus/odata/v1/Pro...   \n",
       "239ed32b-2c60-4fb0-8964-ef4c32dbc461  https://scihub.copernicus.eu/dhus/odata/v1/Pro...   \n",
       "\n",
       "                                                                                summary  \\\n",
       "f91cebb6-90a8-4677-ac1f-5129ee6a9bac  Date: 2021-03-31T10:00:21.024Z, Instrument: MS...   \n",
       "488958c6-4976-40d4-a1e8-87bb2d05eb56  Date: 2021-03-31T10:00:21.024Z, Instrument: MS...   \n",
       "18ecce27-2437-4f84-b0d2-fe6a9de25135  Date: 2021-03-26T10:00:29.024Z, Instrument: MS...   \n",
       "239ed32b-2c60-4fb0-8964-ef4c32dbc461  Date: 2021-03-26T10:00:29.024Z, Instrument: MS...   \n",
       "\n",
       "                                     ondemand           ingestiondate  \\\n",
       "f91cebb6-90a8-4677-ac1f-5129ee6a9bac    false 2021-03-31 19:48:08.303   \n",
       "488958c6-4976-40d4-a1e8-87bb2d05eb56    false 2021-03-31 15:37:16.793   \n",
       "18ecce27-2437-4f84-b0d2-fe6a9de25135    false 2021-03-26 19:24:30.966   \n",
       "239ed32b-2c60-4fb0-8964-ef4c32dbc461    false 2021-03-26 15:36:54.844   \n",
       "\n",
       "                                               beginposition  \\\n",
       "f91cebb6-90a8-4677-ac1f-5129ee6a9bac 2021-03-31 10:00:21.024   \n",
       "488958c6-4976-40d4-a1e8-87bb2d05eb56 2021-03-31 10:00:21.024   \n",
       "18ecce27-2437-4f84-b0d2-fe6a9de25135 2021-03-26 10:00:29.024   \n",
       "239ed32b-2c60-4fb0-8964-ef4c32dbc461 2021-03-26 10:00:29.024   \n",
       "\n",
       "                                                 endposition  \\\n",
       "f91cebb6-90a8-4677-ac1f-5129ee6a9bac 2021-03-31 10:00:21.024   \n",
       "488958c6-4976-40d4-a1e8-87bb2d05eb56 2021-03-31 10:00:21.024   \n",
       "18ecce27-2437-4f84-b0d2-fe6a9de25135 2021-03-26 10:00:29.024   \n",
       "239ed32b-2c60-4fb0-8964-ef4c32dbc461 2021-03-26 10:00:29.024   \n",
       "\n",
       "                                          generationdate  ...  platformname  \\\n",
       "f91cebb6-90a8-4677-ac1f-5129ee6a9bac 2021-03-31 12:52:12  ...    Sentinel-2   \n",
       "488958c6-4976-40d4-a1e8-87bb2d05eb56 2021-03-31 11:33:21  ...    Sentinel-2   \n",
       "18ecce27-2437-4f84-b0d2-fe6a9de25135 2021-03-26 12:43:11  ...    Sentinel-2   \n",
       "239ed32b-2c60-4fb0-8964-ef4c32dbc461 2021-03-26 11:13:28  ...    Sentinel-2   \n",
       "\n",
       "                                           size  \\\n",
       "f91cebb6-90a8-4677-ac1f-5129ee6a9bac    1.07 GB   \n",
       "488958c6-4976-40d4-a1e8-87bb2d05eb56  791.14 MB   \n",
       "18ecce27-2437-4f84-b0d2-fe6a9de25135    1.05 GB   \n",
       "239ed32b-2c60-4fb0-8964-ef4c32dbc461  758.93 MB   \n",
       "\n",
       "                                                                    datastripidentifier  \\\n",
       "f91cebb6-90a8-4677-ac1f-5129ee6a9bac  S2A_OPER_MSI_L2A_DS_VGS4_20210331T125212_S2021...   \n",
       "488958c6-4976-40d4-a1e8-87bb2d05eb56  S2A_OPER_MSI_L1C_DS_VGS4_20210331T113321_S2021...   \n",
       "18ecce27-2437-4f84-b0d2-fe6a9de25135  S2B_OPER_MSI_L2A_DS_VGS4_20210326T124311_S2021...   \n",
       "239ed32b-2c60-4fb0-8964-ef4c32dbc461  S2B_OPER_MSI_L1C_DS_VGS4_20210326T111328_S2021...   \n",
       "\n",
       "                                                                      granuleidentifier  \\\n",
       "f91cebb6-90a8-4677-ac1f-5129ee6a9bac  S2A_OPER_MSI_L2A_TL_VGS4_20210331T125212_A0301...   \n",
       "488958c6-4976-40d4-a1e8-87bb2d05eb56  S2A_OPER_MSI_L1C_TL_VGS4_20210331T113321_A0301...   \n",
       "18ecce27-2437-4f84-b0d2-fe6a9de25135  S2B_OPER_MSI_L2A_TL_VGS4_20210326T124311_A0211...   \n",
       "239ed32b-2c60-4fb0-8964-ef4c32dbc461  S2B_OPER_MSI_L1C_TL_VGS4_20210326T111328_A0211...   \n",
       "\n",
       "                                                                   level1cpdiidentifier  \\\n",
       "f91cebb6-90a8-4677-ac1f-5129ee6a9bac  S2A_OPER_MSI_L1C_TL_VGS4_20210331T113321_A0301...   \n",
       "488958c6-4976-40d4-a1e8-87bb2d05eb56  S2A_OPER_MSI_L1C_TL_VGS4_20210331T113321_A0301...   \n",
       "18ecce27-2437-4f84-b0d2-fe6a9de25135  S2B_OPER_MSI_L1C_TL_VGS4_20210326T111328_A0211...   \n",
       "239ed32b-2c60-4fb0-8964-ef4c32dbc461  S2B_OPER_MSI_L1C_TL_VGS4_20210326T111328_A0211...   \n",
       "\n",
       "                                                                      uuid  \\\n",
       "f91cebb6-90a8-4677-ac1f-5129ee6a9bac  f91cebb6-90a8-4677-ac1f-5129ee6a9bac   \n",
       "488958c6-4976-40d4-a1e8-87bb2d05eb56  488958c6-4976-40d4-a1e8-87bb2d05eb56   \n",
       "18ecce27-2437-4f84-b0d2-fe6a9de25135  18ecce27-2437-4f84-b0d2-fe6a9de25135   \n",
       "239ed32b-2c60-4fb0-8964-ef4c32dbc461  239ed32b-2c60-4fb0-8964-ef4c32dbc461   \n",
       "\n",
       "                                        datatakesensingstart  \\\n",
       "f91cebb6-90a8-4677-ac1f-5129ee6a9bac                     NaT   \n",
       "488958c6-4976-40d4-a1e8-87bb2d05eb56 2021-03-31 10:00:21.024   \n",
       "18ecce27-2437-4f84-b0d2-fe6a9de25135                     NaT   \n",
       "239ed32b-2c60-4fb0-8964-ef4c32dbc461 2021-03-26 10:00:29.024   \n",
       "\n",
       "                                      sensoroperationalmode  tileid  \\\n",
       "f91cebb6-90a8-4677-ac1f-5129ee6a9bac                    NaN     NaN   \n",
       "488958c6-4976-40d4-a1e8-87bb2d05eb56               INS-NOBS   33UXV   \n",
       "18ecce27-2437-4f84-b0d2-fe6a9de25135                    NaN     NaN   \n",
       "239ed32b-2c60-4fb0-8964-ef4c32dbc461               INS-NOBS   33UXV   \n",
       "\n",
       "                                      hv_order_tileid  \n",
       "f91cebb6-90a8-4677-ac1f-5129ee6a9bac              NaN  \n",
       "488958c6-4976-40d4-a1e8-87bb2d05eb56            UV33X  \n",
       "18ecce27-2437-4f84-b0d2-fe6a9de25135              NaN  \n",
       "239ed32b-2c60-4fb0-8964-ef4c32dbc461            UV33X  \n",
       "\n",
       "[4 rows x 46 columns]"
      ]
     },
     "execution_count": 18,
     "metadata": {},
     "output_type": "execute_result"
    }
   ],
   "source": [
    "df = api.to_dataframe(products)\n",
    "df"
   ]
  },
  {
   "cell_type": "code",
   "execution_count": 19,
   "id": "d782d770",
   "metadata": {},
   "outputs": [
    {
     "data": {
      "text/plain": [
       "Index(['title', 'link', 'link_alternative', 'link_icon', 'summary', 'ondemand',\n",
       "       'ingestiondate', 'beginposition', 'endposition', 'generationdate',\n",
       "       'orbitnumber', 'relativeorbitnumber', 'cloudcoverpercentage',\n",
       "       'highprobacloudspercentage', 'mediumprobacloudspercentage',\n",
       "       'notvegetatedpercentage', 'snowicepercentage', 'unclassifiedpercentage',\n",
       "       'vegetationpercentage', 'waterpercentage', 'illuminationazimuthangle',\n",
       "       'illuminationzenithangle', 'filename', 'gmlfootprint', 'format',\n",
       "       'identifier', 'instrumentshortname', 'instrumentname', 'footprint',\n",
       "       's2datatakeid', 'platformidentifier', 'orbitdirection',\n",
       "       'platformserialidentifier', 'processingbaseline', 'processinglevel',\n",
       "       'producttype', 'platformname', 'size', 'datastripidentifier',\n",
       "       'granuleidentifier', 'level1cpdiidentifier', 'uuid',\n",
       "       'datatakesensingstart', 'sensoroperationalmode', 'tileid',\n",
       "       'hv_order_tileid'],\n",
       "      dtype='object')"
      ]
     },
     "execution_count": 19,
     "metadata": {},
     "output_type": "execute_result"
    }
   ],
   "source": [
    "df.columns"
   ]
  },
  {
   "cell_type": "code",
   "execution_count": 20,
   "id": "e236374b",
   "metadata": {
    "scrolled": false
   },
   "outputs": [
    {
     "data": {
      "text/html": [
       "<div>\n",
       "<style scoped>\n",
       "    .dataframe tbody tr th:only-of-type {\n",
       "        vertical-align: middle;\n",
       "    }\n",
       "\n",
       "    .dataframe tbody tr th {\n",
       "        vertical-align: top;\n",
       "    }\n",
       "\n",
       "    .dataframe thead th {\n",
       "        text-align: right;\n",
       "    }\n",
       "</style>\n",
       "<table border=\"1\" class=\"dataframe\">\n",
       "  <thead>\n",
       "    <tr style=\"text-align: right;\">\n",
       "      <th></th>\n",
       "      <th>title</th>\n",
       "      <th>uuid</th>\n",
       "      <th>cloudcoverpercentage</th>\n",
       "    </tr>\n",
       "  </thead>\n",
       "  <tbody>\n",
       "    <tr>\n",
       "      <th>f91cebb6-90a8-4677-ac1f-5129ee6a9bac</th>\n",
       "      <td>S2A_MSIL2A_20210331T100021_N0300_R122_T33UXV_2...</td>\n",
       "      <td>f91cebb6-90a8-4677-ac1f-5129ee6a9bac</td>\n",
       "      <td>0.540576</td>\n",
       "    </tr>\n",
       "    <tr>\n",
       "      <th>488958c6-4976-40d4-a1e8-87bb2d05eb56</th>\n",
       "      <td>S2A_MSIL1C_20210331T100021_N0300_R122_T33UXV_2...</td>\n",
       "      <td>488958c6-4976-40d4-a1e8-87bb2d05eb56</td>\n",
       "      <td>0.404700</td>\n",
       "    </tr>\n",
       "    <tr>\n",
       "      <th>18ecce27-2437-4f84-b0d2-fe6a9de25135</th>\n",
       "      <td>S2B_MSIL2A_20210326T100029_N0214_R122_T33UXV_2...</td>\n",
       "      <td>18ecce27-2437-4f84-b0d2-fe6a9de25135</td>\n",
       "      <td>8.609139</td>\n",
       "    </tr>\n",
       "    <tr>\n",
       "      <th>239ed32b-2c60-4fb0-8964-ef4c32dbc461</th>\n",
       "      <td>S2B_MSIL1C_20210326T100029_N0209_R122_T33UXV_2...</td>\n",
       "      <td>239ed32b-2c60-4fb0-8964-ef4c32dbc461</td>\n",
       "      <td>5.278300</td>\n",
       "    </tr>\n",
       "  </tbody>\n",
       "</table>\n",
       "</div>"
      ],
      "text/plain": [
       "                                                                                  title  \\\n",
       "f91cebb6-90a8-4677-ac1f-5129ee6a9bac  S2A_MSIL2A_20210331T100021_N0300_R122_T33UXV_2...   \n",
       "488958c6-4976-40d4-a1e8-87bb2d05eb56  S2A_MSIL1C_20210331T100021_N0300_R122_T33UXV_2...   \n",
       "18ecce27-2437-4f84-b0d2-fe6a9de25135  S2B_MSIL2A_20210326T100029_N0214_R122_T33UXV_2...   \n",
       "239ed32b-2c60-4fb0-8964-ef4c32dbc461  S2B_MSIL1C_20210326T100029_N0209_R122_T33UXV_2...   \n",
       "\n",
       "                                                                      uuid  \\\n",
       "f91cebb6-90a8-4677-ac1f-5129ee6a9bac  f91cebb6-90a8-4677-ac1f-5129ee6a9bac   \n",
       "488958c6-4976-40d4-a1e8-87bb2d05eb56  488958c6-4976-40d4-a1e8-87bb2d05eb56   \n",
       "18ecce27-2437-4f84-b0d2-fe6a9de25135  18ecce27-2437-4f84-b0d2-fe6a9de25135   \n",
       "239ed32b-2c60-4fb0-8964-ef4c32dbc461  239ed32b-2c60-4fb0-8964-ef4c32dbc461   \n",
       "\n",
       "                                      cloudcoverpercentage  \n",
       "f91cebb6-90a8-4677-ac1f-5129ee6a9bac              0.540576  \n",
       "488958c6-4976-40d4-a1e8-87bb2d05eb56              0.404700  \n",
       "18ecce27-2437-4f84-b0d2-fe6a9de25135              8.609139  \n",
       "239ed32b-2c60-4fb0-8964-ef4c32dbc461              5.278300  "
      ]
     },
     "execution_count": 20,
     "metadata": {},
     "output_type": "execute_result"
    }
   ],
   "source": [
    "df.loc[:,['title','uuid','cloudcoverpercentage']]"
   ]
  },
  {
   "cell_type": "code",
   "execution_count": 21,
   "id": "eaf4923e",
   "metadata": {},
   "outputs": [
    {
     "data": {
      "text/plain": [
       "'/home/u1/22_dydaktyka/05imProc/rok2021'"
      ]
     },
     "execution_count": 21,
     "metadata": {},
     "output_type": "execute_result"
    }
   ],
   "source": [
    "%pwd"
   ]
  },
  {
   "cell_type": "code",
   "execution_count": 22,
   "id": "40f53a94",
   "metadata": {},
   "outputs": [
    {
     "data": {
      "text/plain": [
       "'18ecce27-2437-4f84-b0d2-fe6a9de25135'"
      ]
     },
     "execution_count": 22,
     "metadata": {},
     "output_type": "execute_result"
    }
   ],
   "source": [
    "df.index[2]"
   ]
  },
  {
   "cell_type": "code",
   "execution_count": 23,
   "id": "626a0d40",
   "metadata": {},
   "outputs": [
    {
     "name": "stdout",
     "output_type": "stream",
     "text": [
      "uuid:\t\t18ecce27-2437-4f84-b0d2-fe6a9de25135\n",
      "filename:\tS2B_MSIL2A_20210326T100029_N0214_R122_T33UXV_20210326T124311.SAFE\n"
     ]
    }
   ],
   "source": [
    "uuid = df.index[2]\n",
    "filename = df.loc[uuid,'filename']\n",
    "print(f'uuid:\\t\\t{uuid}\\nfilename:\\t{filename}')"
   ]
  },
  {
   "cell_type": "markdown",
   "id": "2f117b61",
   "metadata": {},
   "source": [
    "```python\n",
    "uuid = df.loc['86195c73-bbc5-41c1-ab83-8c2d6595b5e0','uuid']\n",
    "filename = df.loc['86195c73-bbc5-41c1-ab83-8c2d6595b5e0','filename']\n",
    "print(f'uuid:\\t\\t{uuid}\\nfilename:\\t{filename}')\n",
    "```"
   ]
  },
  {
   "cell_type": "code",
   "execution_count": 25,
   "id": "63d65e3d",
   "metadata": {},
   "outputs": [
    {
     "data": {
      "application/vnd.jupyter.widget-view+json": {
       "model_id": "1363da9bb8e64263965ffa0bb0e8a1db",
       "version_major": 2,
       "version_minor": 0
      },
      "text/plain": [
       "Downloading:   0%|          | 0.00/1.13G [00:00<?, ?B/s]"
      ]
     },
     "metadata": {},
     "output_type": "display_data"
    },
    {
     "data": {
      "application/vnd.jupyter.widget-view+json": {
       "model_id": "adfb5882631e41b1a5752c6fbb76a318",
       "version_major": 2,
       "version_minor": 0
      },
      "text/plain": [
       "MD5 checksumming:   0%|          | 0.00/1.13G [00:00<?, ?B/s]"
      ]
     },
     "metadata": {},
     "output_type": "display_data"
    },
    {
     "data": {
      "text/plain": [
       "{'id': '18ecce27-2437-4f84-b0d2-fe6a9de25135',\n",
       " 'title': 'S2B_MSIL2A_20210326T100029_N0214_R122_T33UXV_20210326T124311',\n",
       " 'size': 1129175233,\n",
       " 'md5': '3f57cc4504fd065caa02db8b07974dd4',\n",
       " 'date': datetime.datetime(2021, 3, 26, 10, 0, 29, 24000),\n",
       " 'footprint': 'POLYGON((16.530701256365735 54.138373318280884,18.20926008487338 54.10530483528773,18.135320369204088 53.119880621881606,16.495379581512257 53.15178549855093,16.530701256365735 54.138373318280884))',\n",
       " 'url': \"https://scihub.copernicus.eu/dhus/odata/v1/Products('18ecce27-2437-4f84-b0d2-fe6a9de25135')/$value\",\n",
       " 'Online': False,\n",
       " 'Creation Date': datetime.datetime(2021, 3, 26, 19, 24, 30, 966000),\n",
       " 'Ingestion Date': datetime.datetime(2021, 3, 26, 19, 24, 30, 966000),\n",
       " 'quicklook_url': \"https://scihub.copernicus.eu/dhus/odata/v1/Products('18ecce27-2437-4f84-b0d2-fe6a9de25135')/Products('Quicklook')/$value\",\n",
       " 'path': '/home/u1/22_dydaktyka/05imProc/img_test/S2B_MSIL2A_20210326T100029_N0214_R122_T33UXV_20210326T124311.zip',\n",
       " 'downloaded_bytes': 1129175233}"
      ]
     },
     "execution_count": 25,
     "metadata": {},
     "output_type": "execute_result"
    }
   ],
   "source": [
    "api = SentinelAPI('galia1983', 'Ruda1983@', 'https://scihub.copernicus.eu/dhus')\n",
    "dest = '/home/u1/22_dydaktyka/05imProc/img_test/'\n",
    "api.download(uuid,dest)"
   ]
  },
  {
   "cell_type": "markdown",
   "id": "f0ba824a",
   "metadata": {},
   "source": [
    "```python\n",
    "dest = '/home/u1/22_dydaktyka/05imProc/img_test/'\n",
    "api.download(uuid,dest)\n",
    "```"
   ]
  }
 ],
 "metadata": {
  "hide_input": false,
  "kernelspec": {
   "display_name": "Python [conda env:sent]",
   "language": "python",
   "name": "conda-env-sent-py"
  },
  "language_info": {
   "codemirror_mode": {
    "name": "ipython",
    "version": 3
   },
   "file_extension": ".py",
   "mimetype": "text/x-python",
   "name": "python",
   "nbconvert_exporter": "python",
   "pygments_lexer": "ipython3",
   "version": "3.7.7"
  },
  "latex_envs": {
   "LaTeX_envs_menu_present": true,
   "autoclose": false,
   "autocomplete": true,
   "bibliofile": "biblio.bib",
   "cite_by": "apalike",
   "current_citInitial": 1,
   "eqLabelWithNumbers": true,
   "eqNumInitial": 1,
   "hotkeys": {
    "equation": "Ctrl-E",
    "itemize": "Ctrl-I"
   },
   "labels_anchors": false,
   "latex_user_defs": false,
   "report_style_numbering": false,
   "user_envs_cfg": false
  },
  "nbTranslate": {
   "displayLangs": [
    "*"
   ],
   "hotkey": "alt-t",
   "langInMainMenu": true,
   "sourceLang": "en",
   "targetLang": "fr",
   "useGoogleTranslate": true
  },
  "toc": {
   "base_numbering": 1,
   "nav_menu": {},
   "number_sections": true,
   "sideBar": true,
   "skip_h1_title": false,
   "title_cell": "Table of Contents",
   "title_sidebar": "Contents",
   "toc_cell": false,
   "toc_position": {
    "height": "calc(100% - 180px)",
    "left": "10px",
    "top": "150px",
    "width": "181.205px"
   },
   "toc_section_display": true,
   "toc_window_display": true
  }
 },
 "nbformat": 4,
 "nbformat_minor": 5
}
